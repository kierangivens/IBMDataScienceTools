{
  "nbformat": 4,
  "nbformat_minor": 0,
  "metadata": {
    "colab": {
      "provenance": []
    },
    "kernelspec": {
      "name": "python3",
      "display_name": "Python 3"
    },
    "language_info": {
      "name": "python"
    }
  },
  "cells": [
    {
      "cell_type": "markdown",
      "source": [
        "## Data Science Tools and Ecosystem"
      ],
      "metadata": {
        "id": "r4Z9EutzZEBr"
      }
    },
    {
      "cell_type": "markdown",
      "source": [
        "In this notebook, data science tools and the ecosystem are summarized.\n"
      ],
      "metadata": {
        "id": "siS4Z46gZ0bq"
      }
    },
    {
      "cell_type": "markdown",
      "source": [
        "**Objectives:**\n",
        "\n",
        "*   Popular languages in data science\n",
        "*   Open source tools\n",
        "*   Python arithmetic"
      ],
      "metadata": {
        "id": "_9Hg8fjofxNi"
      }
    },
    {
      "cell_type": "markdown",
      "source": [
        "Some of the popular languages that data scientists use are\n",
        "\n",
        "*   Java\n",
        "*   Python\n",
        "*   SQL\n",
        "*   R"
      ],
      "metadata": {
        "id": "S0uzv0kJamIz"
      }
    },
    {
      "cell_type": "markdown",
      "source": [
        "Some of the commonly used libraries in data science are\n",
        "\n",
        "\n",
        "*   Pandas\n",
        "*   Matplotlib\n",
        "*   Scikit-learn"
      ],
      "metadata": {
        "id": "RshK_ZQ2bi6t"
      }
    },
    {
      "cell_type": "markdown",
      "source": [
        "| Data Science Tools   |\n",
        "|----------|\n",
        "| Jupyter    |\n",
        "| VS Code    |\n",
        "| Apache Spark    |"
      ],
      "metadata": {
        "id": "grv4lPpgcIf8"
      }
    },
    {
      "cell_type": "markdown",
      "source": [
        "Below are a few examples of arithemetic evaluation in Python\n"
      ],
      "metadata": {
        "id": "_VpB2P0veQXK"
      }
    },
    {
      "cell_type": "code",
      "source": [
        "# This a simple arithmetic expression to mutiply then add integers.\n",
        "(3*4) + 5"
      ],
      "metadata": {
        "colab": {
          "base_uri": "https://localhost:8080/"
        },
        "id": "is7zo2eJerMC",
        "outputId": "8359d9f5-7962-4c8d-b49d-482a2ea04e37"
      },
      "execution_count": 1,
      "outputs": [
        {
          "output_type": "execute_result",
          "data": {
            "text/plain": [
              "17"
            ]
          },
          "metadata": {},
          "execution_count": 1
        }
      ]
    },
    {
      "cell_type": "code",
      "source": [
        "# This will convert 200 minutes to hours by diving by 60\n",
        "hours = 200/60\n",
        "print(hours)"
      ],
      "metadata": {
        "colab": {
          "base_uri": "https://localhost:8080/"
        },
        "id": "Jz3BAirUfEMP",
        "outputId": "33b7ffc1-184b-4c8d-c42c-f1c57c48263d"
      },
      "execution_count": 2,
      "outputs": [
        {
          "output_type": "stream",
          "name": "stdout",
          "text": [
            "3.3333333333333335\n"
          ]
        }
      ]
    },
    {
      "cell_type": "markdown",
      "source": [
        "# Author\n",
        "# Kieran Givens"
      ],
      "metadata": {
        "id": "7H1EGrjBif9N"
      }
    }
  ]
}